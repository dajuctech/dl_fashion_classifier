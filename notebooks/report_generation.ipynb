{
 "cells": [
  {
   "cell_type": "code",
   "execution_count": null,
   "id": "9bd1fce8",
   "metadata": {
    "vscode": {
     "languageId": "plaintext"
    }
   },
   "outputs": [],
   "source": [
    "# Import reporting functions\n",
    "from src.business_intelligence.report import *\n",
    "\n",
    "# Simulated labels and history (replace with actual)\n",
    "labels = [0, 1, 2, 3, 4, 5, 6, 7, 8, 9]*10\n",
    "class DummyHistory:\n",
    "    history = {\n",
    "        'accuracy': [0.7, 0.8, 0.85, 0.9],\n",
    "        'val_accuracy': [0.65, 0.75, 0.8, 0.85],\n",
    "        'loss': [0.6, 0.4, 0.3, 0.2],\n",
    "        'val_loss': [0.7, 0.5, 0.4, 0.3]\n",
    "    }\n",
    "\n",
    "# Simulate predictions (replace with model predictions)\n",
    "y_true = labels\n",
    "y_pred = labels\n",
    "\n",
    "# Generate plots\n",
    "plot_class_distribution(labels)\n",
    "plot_accuracy_loss(DummyHistory())\n",
    "plot_confusion_matrix(y_true, y_pred)\n",
    "\n",
    "print(\"Reports generated in reports/ directory.\")\n"
   ]
  }
 ],
 "metadata": {
  "language_info": {
   "name": "python"
  }
 },
 "nbformat": 4,
 "nbformat_minor": 5
}
